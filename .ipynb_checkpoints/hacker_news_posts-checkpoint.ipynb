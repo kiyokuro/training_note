{
 "cells": [
  {
   "cell_type": "markdown",
   "metadata": {},
   "source": [
    "# Guided Project: Exploring Hacker News Posts\n",
    "from dataquest"
   ]
  },
  {
   "cell_type": "markdown",
   "metadata": {},
   "source": [
    "## 概要\n",
    "Hacker Newsというサイトの投稿について分析する。Hacker Newsはradditのよなもので、ユーザの投稿についてコメントや投票ができる（Quoraとか似た雰囲気のサイトかな？）。そして、その中でも投稿のタイトルに`Ask HN`か`Show HN`とついているものに注目する。\n",
    "\n",
    "`Ask HN`はHacker newsのコミュニティーに質問する時についていて、`Show HN`はコミュニティにプロジェクトやプロダクトを見せる時についている。"
   ]
  },
  {
   "cell_type": "code",
   "execution_count": 1,
   "metadata": {},
   "outputs": [],
   "source": [
    "from csv import reader"
   ]
  },
  {
   "cell_type": "code",
   "execution_count": 2,
   "metadata": {},
   "outputs": [],
   "source": [
    "hn = list(reader(open('./data/hacker_news.csv')))"
   ]
  },
  {
   "cell_type": "markdown",
   "metadata": {},
   "source": [
    "# colunms\n",
    "column | description\n",
    "---|---\n",
    "id| The unique identifier from Hacker News for the post\n",
    "title| The title of the post\n",
    "url| The URL that the posts links to, if it the post has a URL\n",
    "num_points| The number of points the post acquired, calculated as the total number of upvotes minus the total number of downvotes\n",
    "num_comments| The number of comments that were made on the post\n",
    "author| The username of the person who submitted the post\n",
    "created_at| The date and time at which the post was"
   ]
  },
  {
   "cell_type": "code",
   "execution_count": 3,
   "metadata": {},
   "outputs": [
    {
     "name": "stdout",
     "output_type": "stream",
     "text": [
      "Header\n",
      "['id', 'title', 'url', 'num_points', 'num_comments', 'author', 'created_at']\n"
     ]
    }
   ],
   "source": [
    "# ヘッダー行を取り除く\n",
    "headers = hn.pop(0)\n",
    "print('Header')\n",
    "print(headers)"
   ]
  },
  {
   "cell_type": "code",
   "execution_count": 4,
   "metadata": {
    "scrolled": true
   },
   "outputs": [
    {
     "name": "stdout",
     "output_type": "stream",
     "text": [
      "['12224879', 'Interactive Dynamic Video', 'http://www.interactivedynamicvideo.com/', '386', '52', 'ne0phyte', '8/4/2016 11:52']\n",
      "['10975351', 'How to Use Open Source and Shut the Fuck Up at the Same Time', 'http://hueniverse.com/2016/01/26/how-to-use-open-source-and-shut-the-fuck-up-at-the-same-time/', '39', '10', 'josep2', '1/26/2016 19:30']\n",
      "['11964716', \"Florida DJs May Face Felony for April Fools' Water Joke\", 'http://www.thewire.com/entertainment/2013/04/florida-djs-april-fools-water-joke/63798/', '2', '1', 'vezycash', '6/23/2016 22:20']\n",
      "['11919867', 'Technology ventures: From Idea to Enterprise', 'https://www.amazon.com/Technology-Ventures-Enterprise-Thomas-Byers/dp/0073523429', '3', '1', 'hswarna', '6/17/2016 0:01']\n",
      "['10301696', 'Note by Note: The Making of Steinway L1037 (2007)', 'http://www.nytimes.com/2007/11/07/movies/07stein.html?_r=0', '8', '2', 'walterbell', '9/30/2015 4:12']\n"
     ]
    }
   ],
   "source": [
    "# 試しにレコードを表示\n",
    "for row in hn[0:5]:\n",
    "    print(row)"
   ]
  },
  {
   "cell_type": "markdown",
   "metadata": {},
   "source": [
    "## 投稿のリストを分割する\n",
    "タイトルが`Ask HN`と`Show HN`で始まるものとそれ以外でリストを3つに分割する"
   ]
  },
  {
   "cell_type": "code",
   "execution_count": 5,
   "metadata": {},
   "outputs": [
    {
     "name": "stdout",
     "output_type": "stream",
     "text": [
      "['12296411', 'Ask HN: How to improve my personal website?', '', '2', '6', 'ahmedbaracat', '8/16/2016 9:55']\n",
      "['10627194', 'Show HN: Wio Link  ESP8266 Based Web of Things Hardware Development Platform', 'https://iot.seeed.cc', '26', '22', 'kfihihc', '11/25/2015 14:03']\n",
      "['12224879', 'Interactive Dynamic Video', 'http://www.interactivedynamicvideo.com/', '386', '52', 'ne0phyte', '8/4/2016 11:52']\n"
     ]
    }
   ],
   "source": [
    "ask_posts = []\n",
    "show_posts = []\n",
    "other_posts = []\n",
    "for row in hn:\n",
    "    if row[1].lower().startswith('ask hn'):\n",
    "        ask_posts.append(row)\n",
    "    elif row[1].lower().startswith('show hn'):\n",
    "        show_posts.append(row)\n",
    "    else:\n",
    "        other_posts.append(row)\n",
    "print(ask_posts[0])\n",
    "print(show_posts[0])\n",
    "print(other_posts[0])"
   ]
  },
  {
   "cell_type": "markdown",
   "metadata": {},
   "source": [
    "## 各投稿に対するコメント数を取得する"
   ]
  },
  {
   "cell_type": "markdown",
   "metadata": {},
   "source": [
    "### Ask HMに対するコメント数"
   ]
  },
  {
   "cell_type": "code",
   "execution_count": 11,
   "metadata": {},
   "outputs": [
    {
     "name": "stdout",
     "output_type": "stream",
     "text": [
      "number of total ask comments is 24483\n",
      "ask posts length is 1744\n",
      "comment average of posts is 14.038417431192661\n"
     ]
    }
   ],
   "source": [
    "total_ask_comments = 0\n",
    "for row in ask_posts:\n",
    "    comment_num = int(row[4])\n",
    "    total_ask_comments += comment_num\n",
    "    avg_ask_commnets = total_ask_comments / len(ask_posts)\n",
    "print('number of total ask comments is ' + str(total_ask_comments))\n",
    "print('ask posts length is ' + str(len(ask_posts)))\n",
    "print('comment average of posts is ' + str(avg_ask_commnets))"
   ]
  },
  {
   "cell_type": "markdown",
   "metadata": {},
   "source": [
    "### Show HMに対するコメント数"
   ]
  },
  {
   "cell_type": "code",
   "execution_count": 12,
   "metadata": {},
   "outputs": [
    {
     "name": "stdout",
     "output_type": "stream",
     "text": [
      "number of total ask comments is 11988\n",
      "ask posts length is 1162\n",
      "comment average of posts is 10.31669535283993\n"
     ]
    }
   ],
   "source": [
    "total_show_comments = 0\n",
    "for row in show_posts:\n",
    "    comment_num = int(row[4])\n",
    "    total_show_comments += comment_num\n",
    "    avg_show_commnets = total_show_comments / len(show_posts)\n",
    "print('number of total ask comments is ' + str(total_show_comments))\n",
    "print('ask posts length is ' + str(len(show_posts)))\n",
    "print('comment average of posts is ' + str(avg_show_commnets))"
   ]
  },
  {
   "cell_type": "markdown",
   "metadata": {},
   "source": [
    "Ask HMへの平均コメント数は14.04でShow HMへの平均コメント数は10.32。Askの方は質問系の投稿でShowの方は何かを紹介（発表）する系の投稿らしいから、やはり質問に対する回答の方がコメント数は伸びるのだろう。"
   ]
  }
 ],
 "metadata": {
  "kernelspec": {
   "display_name": "Python 3",
   "language": "python",
   "name": "python3"
  },
  "language_info": {
   "codemirror_mode": {
    "name": "ipython",
    "version": 3
   },
   "file_extension": ".py",
   "mimetype": "text/x-python",
   "name": "python",
   "nbconvert_exporter": "python",
   "pygments_lexer": "ipython3",
   "version": "3.7.4"
  }
 },
 "nbformat": 4,
 "nbformat_minor": 2
}
