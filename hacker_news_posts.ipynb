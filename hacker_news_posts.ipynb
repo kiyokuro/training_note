{
 "cells": [
  {
   "cell_type": "markdown",
   "metadata": {},
   "source": [
    "# Guided Project: Exploring Hacker News Posts\n",
    "from dataquest"
   ]
  },
  {
   "cell_type": "markdown",
   "metadata": {},
   "source": [
    "## 概要\n",
    "Hacker Newsというサイトの投稿について分析する。Hacker Newsはradditのよなもので、ユーザの投稿についてコメントや投票ができる（Quoraとか似た雰囲気のサイトかな？）。そして、その中でも投稿のタイトルに`Ask HN`か`Show HN`とついているものに注目する。\n",
    "\n",
    "`Ask HN`はHacker newsのコミュニティーに質問する時についていて、`Show HN`はコミュニティにプロジェクトやプロダクトを見せる時についている。"
   ]
  },
  {
   "cell_type": "code",
   "execution_count": 3,
   "metadata": {},
   "outputs": [],
   "source": [
    "from csv import reader"
   ]
  },
  {
   "cell_type": "code",
   "execution_count": 6,
   "metadata": {},
   "outputs": [],
   "source": [
    "hn = list(reader(open('./data/hacker_news.csv')))"
   ]
  },
  {
   "cell_type": "markdown",
   "metadata": {},
   "source": [
    "# colunms\n",
    "column | description\n",
    "---|---\n",
    "id| The unique identifier from Hacker News for the post\n",
    "title| The title of the post\n",
    "url| The URL that the posts links to, if it the post has a URL\n",
    "num_points| The number of points the post acquired, calculated as the total number of upvotes minus the total number of downvotes\n",
    "num_comments| The number of comments that were made on the post\n",
    "author| The username of the person who submitted the post\n",
    "created_at| The date and time at which the post was"
   ]
  },
  {
   "cell_type": "code",
   "execution_count": 8,
   "metadata": {},
   "outputs": [
    {
     "data": {
      "text/plain": [
       "['12224879',\n",
       " 'Interactive Dynamic Video',\n",
       " 'http://www.interactivedynamicvideo.com/',\n",
       " '386',\n",
       " '52',\n",
       " 'ne0phyte',\n",
       " '8/4/2016 11:52']"
      ]
     },
     "execution_count": 8,
     "metadata": {},
     "output_type": "execute_result"
    }
   ],
   "source": [
    "# 試しに一つ目のレコードを表示\n",
    "hn[1]"
   ]
  }
 ],
 "metadata": {
  "kernelspec": {
   "display_name": "Python 3",
   "language": "python",
   "name": "python3"
  },
  "language_info": {
   "codemirror_mode": {
    "name": "ipython",
    "version": 3
   },
   "file_extension": ".py",
   "mimetype": "text/x-python",
   "name": "python",
   "nbconvert_exporter": "python",
   "pygments_lexer": "ipython3",
   "version": "3.7.4"
  }
 },
 "nbformat": 4,
 "nbformat_minor": 2
}
